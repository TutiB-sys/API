{
 "cells": [
  {
   "cell_type": "markdown",
   "id": "7196054f",
   "metadata": {},
   "source": [
    "# Working with APIs"
   ]
  },
  {
   "cell_type": "markdown",
   "id": "0547b71e",
   "metadata": {},
   "source": [
    "API stands for Application programming interface<br>\n",
    "APIs are a way for applications to talk to eachother<br>\n",
    "In python we use the requests package to handle the connection<br>\n",
    "<small><strong>Note: It is requests with an s not request(this is a different package)</strong></small><br>\n",
    "Most API's communicate with data in the form of JSON<br>\n",
    "JSON stands for JavaScript Object Notation"
   ]
  },
  {
   "cell_type": "code",
   "execution_count": 1,
   "id": "4db9d154",
   "metadata": {},
   "outputs": [],
   "source": [
    "#import the packages we need:\n",
    "import requests, json"
   ]
  },
  {
   "cell_type": "markdown",
   "id": "e8c2ce51",
   "metadata": {},
   "source": [
    "We will be connecting to the Ergast F1 Racer API today:\n",
    "http://ergast.com/mrd/\n",
    "\n",
    "to view JSON data nicely in the Chrome browser install the extension JSONview"
   ]
  },
  {
   "cell_type": "code",
   "execution_count": 5,
   "id": "52c440c6",
   "metadata": {},
   "outputs": [],
   "source": [
    "#help(requests)"
   ]
  },
  {
   "cell_type": "code",
   "execution_count": 3,
   "id": "f60c1b4a",
   "metadata": {},
   "outputs": [],
   "source": [
    " url = 'http://ergast.com/api/f1/2008/5/driverStandings.json'"
   ]
  },
  {
   "cell_type": "code",
   "execution_count": 4,
   "id": "7b63a204",
   "metadata": {},
   "outputs": [
    {
     "name": "stdout",
     "output_type": "stream",
     "text": [
      "<Response [200]>\n"
     ]
    }
   ],
   "source": [
    "# #response object\n",
    "response=requests.get(url)\n",
    "print(response)"
   ]
  },
  {
   "cell_type": "code",
   "execution_count": 5,
   "id": "c6d1fdaf",
   "metadata": {},
   "outputs": [
    {
     "data": {
      "text/plain": [
       "True"
      ]
     },
     "execution_count": 5,
     "metadata": {},
     "output_type": "execute_result"
    }
   ],
   "source": [
    "#check and make sure we got a successful response from the API\n",
    "response.ok"
   ]
  },
  {
   "cell_type": "code",
   "execution_count": 29,
   "id": "ed4d3256",
   "metadata": {},
   "outputs": [],
   "source": [
    "#view the response as a JSON\n",
    "# response.json()"
   ]
  },
  {
   "cell_type": "code",
   "execution_count": 15,
   "id": "92e6cd2c",
   "metadata": {},
   "outputs": [
    {
     "data": {
      "text/plain": [
       "dict"
      ]
     },
     "execution_count": 15,
     "metadata": {},
     "output_type": "execute_result"
    }
   ],
   "source": [
    "type(response.json())"
   ]
  },
  {
   "cell_type": "code",
   "execution_count": 43,
   "id": "f074dfcf",
   "metadata": {},
   "outputs": [],
   "source": [
    "#We only want the Driver Standings\n",
    "# data=response.json()['MRData']['StandingsTable']['StandingsLists'][0]['DriverStandings']\n",
    "# data"
   ]
  },
  {
   "cell_type": "code",
   "execution_count": 28,
   "id": "be46a950",
   "metadata": {},
   "outputs": [],
   "source": [
    "#to pull the lists in the 'DriverStandings' dic we can use for loop by assigning varable\n",
    "# for x in range(5):\n",
    "#     data=response.json()['MRData']['StandingsTable']['StandingsLists'][0]['DriverStandings'][x]\n",
    "#     print(data)"
   ]
  },
  {
   "cell_type": "code",
   "execution_count": 44,
   "id": "3740c752",
   "metadata": {},
   "outputs": [],
   "source": [
    "# we can countiune pull out the data inside the 'DriverStandings'with in the range [x]['Driver']['familyName']\n",
    "    \n",
    "\n",
    "# for x in range(5):\n",
    "#     my_racer_data=response.json()['MRData']['StandingsTable']['StandingsLists'][0]['DriverStandings'][x]['Driver']\n",
    "#     print(my_racer_data)"
   ]
  },
  {
   "cell_type": "code",
   "execution_count": 27,
   "id": "06d7d033",
   "metadata": {},
   "outputs": [],
   "source": [
    "# my_racer_data=response.json()[\"MRData\"][\"StandingsTable\"][\"StandingsLists\"][0][\"DriverStandings\"]\n",
    "# my_racer_data "
   ]
  },
  {
   "cell_type": "code",
   "execution_count": 26,
   "id": "71513b08",
   "metadata": {},
   "outputs": [],
   "source": [
    "# def get_racer_info(data):\n",
    "#     new_data=[]\n",
    "#     for racer in data:\n",
    "#         racer_dict={}\n",
    "#         racer_name=f\"{racer['Driver']['givenName']}{racer['Driver']['familyName']}\"\n",
    "        \n",
    "#         racer_dict[racer_name]={\n",
    "#             'first_name': racer['Driver']['givenName'],\n",
    "#             'last_name':racer['Driver']['familyName'],\n",
    "#             'position':racer['position'],\n",
    "#             'win': racer['wins'],\n",
    "#             'DOB': racer['Driver']['dateOfBirth'],\n",
    "#             'nationality':racer['Driver']['nationality'],\n",
    "#             'constructor':racer['Constructors'][0]['name']\n",
    "            \n",
    "#         }\n",
    "#         new_data.append(racer_dict)\n",
    "#     return new_data\n",
    "# get_racer_info(my_racer_data)"
   ]
  },
  {
   "cell_type": "markdown",
   "id": "6d546014",
   "metadata": {},
   "source": [
    "# <strong>Homework</strong>\n",
    "Retrieve a list of Pokemon's name, abilities, types, and weight from the PokeAPI\n",
    " https://pokeapi.co/\n",
    "\n",
    "Make 20 Pokemon\n",
    "\n",
    "Whenever you need to create a POKEMON, you need to construct your Pokemon through data from the API: https://pokeapi.co/\n",
    "\n",
    "Below is an example of how your Pokemon should be categorized by Type.\n",
    "Create a dictionary\n",
    "{\n",
    "<strong>'Fire'</strong>: {\n",
    "'charizard': {\n",
    "'abilities': [],\n",
    "'weight': ,\n",
    "},\n",
    "'ninetales': {\n",
    "'abilities': [],\n",
    "'weight': ,\n",
    "}\n",
    "},\n",
    "<strong>'Flying'</strong>:,\n",
    "<strong>'Water'</strong>:\n",
    "}\n",
    "\n",
    "Remember, it may be easier to write functions to do your dirty work, and then call them to execute each topic, rather than trying to write a monstrous spaghetti-script that does it all at once; it also might be very good to plan how you'll go about this and what functions you might use before you write 500 lines of code that confuse and befuddle all who lay eyes upon it. Including yourself. An immense portion of good coding is just planning.\n",
    "\n",
    "When you're done, create a GitHub repository for your assignment and save the repository link as the assignment."
   ]
  },
  {
   "cell_type": "code",
   "execution_count": 6,
   "id": "5a9081e3",
   "metadata": {},
   "outputs": [],
   "source": [
    "url='https://pokeapi.co/api/v2/pokemon/'\n",
    "# response=requests.get(url)\n",
    "# print(response)"
   ]
  },
  {
   "cell_type": "code",
   "execution_count": 33,
   "id": "081d8787",
   "metadata": {},
   "outputs": [
    {
     "name": "stdout",
     "output_type": "stream",
     "text": [
      "[{'electric': {'electrike': {'ablities': 'static', 'weight': 152}}}, {'grass': {'sceptile': {'ablities': 'overgrow', 'weight': 522}}}, {'poison': {'drapion': {'ablities': 'battle-armor', 'weight': 615}}}, {'water': {'panpour': {'ablities': 'gluttony', 'weight': 135}}}, {'normal': {'delcatty': {'ablities': 'cute-charm', 'weight': 326}}}, {'ghost': {'dusclops': {'ablities': 'pressure', 'weight': 306}}}, {'normal': {'audino': {'ablities': 'healer', 'weight': 310}}}, {'normal': {'fletchling': {'ablities': 'big-pecks', 'weight': 17}}}, {'ground': {'hippopotas': {'ablities': 'sand-stream', 'weight': 495}}}, {'grass': {'jumpluff': {'ablities': 'chlorophyll', 'weight': 30}}}, {'bug': {'shuckle': {'ablities': 'sturdy', 'weight': 205}}}, {'water': {'slowking': {'ablities': 'oblivious', 'weight': 795}}}, {'psychic': {'chimecho': {'ablities': 'levitate', 'weight': 10}}}, {'bug': {'accelgor': {'ablities': 'hydration', 'weight': 253}}}, {'bug': {'forretress': {'ablities': 'sturdy', 'weight': 1258}}}, {'fighting': {'hitmonchan': {'ablities': 'keen-eye', 'weight': 502}}}, {'normal': {'buneary': {'ablities': 'run-away', 'weight': 55}}}, {'grass': {'sunflora': {'ablities': 'chlorophyll', 'weight': 85}}}, {'poison': {'weezing': {'ablities': 'levitate', 'weight': 95}}}, {'poison': {'nidorina': {'ablities': 'poison-point', 'weight': 200}}}]\n"
     ]
    }
   ],
   "source": [
    "from random import randint\n",
    "import requests\n",
    "\n",
    "\n",
    "\n",
    "url =\"https://pokeapi.co/api/v2/pokemon/\"\n",
    "#poke_list={}\n",
    "pokes = []\n",
    "for i in range(20):\n",
    "    random = randint(0,700)\n",
    "    data=requests.get(f\"https://pokeapi.co/api/v2/pokemon/{random}\")\n",
    "    data=data.json()\n",
    "    poke_dict={}\n",
    "    poke_keys = f\"{data['types'][0]['type']['name']}\"\n",
    "    poke_name = f\"{data['name']}\"\n",
    "    poke_ablity= data['abilities'][0]['ability']['name']\n",
    "    poke_weight= data['weight']\n",
    "    \n",
    "     # \n",
    "    \n",
    "    poke_dict[poke_keys]={poke_name:{'ablities': poke_ablity,'weight':poke_weight}}  \n",
    "     \n",
    "    pokes.append(poke_dict)\n",
    "print(pokes)\n",
    "    "
   ]
  },
  {
   "cell_type": "code",
   "execution_count": 30,
   "id": "a968407c",
   "metadata": {},
   "outputs": [
    {
     "name": "stdout",
     "output_type": "stream",
     "text": [
      "[{'bug': {'vivillon': {'abilities': 'shield-dust', 'weight': 170}}}, {'ghost': {'cofagrigus': {'abilities': 'mummy', 'weight': 765}}}, {'rock': {'golem': {'abilities': 'rock-head', 'weight': 3000}}}, {'water': {'slowpoke': {'abilities': 'oblivious', 'weight': 360}}}, {'water': {'poliwag': {'abilities': 'water-absorb', 'weight': 124}}}, {'dragon': {'dratini': {'abilities': 'shed-skin', 'weight': 33}}}, {'dragon': {'altaria': {'abilities': 'natural-cure', 'weight': 206}}}, {'water': {'palpitoad': {'abilities': 'swift-swim', 'weight': 170}}}, {'ice': {'jynx': {'abilities': 'oblivious', 'weight': 406}}}, {'psychic': {'swoobat': {'abilities': 'unaware', 'weight': 105}}}, {'ice': {'mamoswine': {'abilities': 'oblivious', 'weight': 2910}}}, {'psychic': {'woobat': {'abilities': 'unaware', 'weight': 21}}}, {'fire': {'pyroar': {'abilities': 'rivalry', 'weight': 815}}}, {'normal': {'fletchling': {'abilities': 'big-pecks', 'weight': 17}}}, {'water': {'palpitoad': {'abilities': 'swift-swim', 'weight': 170}}}, {'bug': {'escavalier': {'abilities': 'swarm', 'weight': 330}}}, {'water': {'seadra': {'abilities': 'poison-point', 'weight': 250}}}, {'rock': {'larvitar': {'abilities': 'guts', 'weight': 720}}}, {'bug': {'wurmple': {'abilities': 'shield-dust', 'weight': 36}}}, {'ground': {'sandshrew': {'abilities': 'sand-veil', 'weight': 120}}}]\n"
     ]
    }
   ],
   "source": [
    "from random import randint\n",
    "import requests\n",
    "\n",
    "\n",
    "\n",
    "url =\"https://pokeapi.co/api/v2/pokemon/\"\n",
    "#poke_list={}\n",
    "pokes = []\n",
    "for i in range(20):\n",
    "    random = randint(0,700)\n",
    "    data=requests.get(f\"https://pokeapi.co/api/v2/pokemon/{random}\")\n",
    "    data=data.json()\n",
    "    poke_dict={}\n",
    "    poke_keys = f\"{data['types'][0]['type']['name']}\"\n",
    "    \n",
    "    poke_dict[poke_keys]={data['name']:{\n",
    "                \n",
    "                          'abilities': data['abilities'][0]['ability']['name'],\n",
    "                          'weight':data['weight']\n",
    "        \n",
    "    } }\n",
    "    pokes.append(poke_dict)\n",
    "print(pokes)\n",
    "    \n",
    "    "
   ]
  },
  {
   "cell_type": "code",
   "execution_count": null,
   "id": "863396fb",
   "metadata": {},
   "outputs": [],
   "source": []
  }
 ],
 "metadata": {
  "kernelspec": {
   "display_name": "Python 3 (ipykernel)",
   "language": "python",
   "name": "python3"
  },
  "language_info": {
   "codemirror_mode": {
    "name": "ipython",
    "version": 3
   },
   "file_extension": ".py",
   "mimetype": "text/x-python",
   "name": "python",
   "nbconvert_exporter": "python",
   "pygments_lexer": "ipython3",
   "version": "3.11.5"
  }
 },
 "nbformat": 4,
 "nbformat_minor": 5
}
