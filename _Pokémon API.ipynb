{
 "cells": [
  {
   "cell_type": "markdown",
   "id": "045da533",
   "metadata": {},
   "source": [
    "# Pokemon API"
   ]
  },
  {
   "cell_type": "code",
   "execution_count": 1,
   "id": "4db9d154",
   "metadata": {},
   "outputs": [],
   "source": [
    "#import the packages we need:\n",
    "import requests, json"
   ]
  },
  {
   "cell_type": "markdown",
   "id": "e8c2ce51",
   "metadata": {},
   "source": [
    "We will be connecting to the Ergast F1 Racer API today:\n",
    "http://ergast.com/mrd/\n",
    "\n",
    "to view JSON data nicely in the Chrome browser install the extension JSONview"
   ]
  },
  {
   "cell_type": "code",
   "execution_count": 5,
   "id": "52c440c6",
   "metadata": {},
   "outputs": [],
   "source": [
    "#help(requests)"
   ]
  },
  {
   "cell_type": "code",
   "execution_count": 3,
   "id": "f60c1b4a",
   "metadata": {},
   "outputs": [],
   "source": [
    " url = 'http://ergast.com/api/f1/2008/5/driverStandings.json'"
   ]
  },
  {
   "cell_type": "code",
   "execution_count": 4,
   "id": "7b63a204",
   "metadata": {},
   "outputs": [
    {
     "name": "stdout",
     "output_type": "stream",
     "text": [
      "<Response [200]>\n"
     ]
    }
   ],
   "source": [
    "# #response object\n",
    "response=requests.get(url)\n",
    "print(response)"
   ]
  },
  {
   "cell_type": "code",
   "execution_count": 5,
   "id": "c6d1fdaf",
   "metadata": {},
   "outputs": [
    {
     "data": {
      "text/plain": [
       "True"
      ]
     },
     "execution_count": 5,
     "metadata": {},
     "output_type": "execute_result"
    }
   ],
   "source": [
    "#check and make sure we got a successful response from the API\n",
    "response.ok"
   ]
  },
  {
   "cell_type": "code",
   "execution_count": 29,
   "id": "ed4d3256",
   "metadata": {},
   "outputs": [],
   "source": [
    "#view the response as a JSON\n",
    "# response.json()"
   ]
  },
  {
   "cell_type": "code",
   "execution_count": 15,
   "id": "92e6cd2c",
   "metadata": {},
   "outputs": [
    {
     "data": {
      "text/plain": [
       "dict"
      ]
     },
     "execution_count": 15,
     "metadata": {},
     "output_type": "execute_result"
    }
   ],
   "source": [
    "type(response.json())"
   ]
  },
  {
   "cell_type": "code",
   "execution_count": null,
   "id": "af5845a7",
   "metadata": {},
   "outputs": [],
   "source": [
    "url='https://pokeapi.co/api/v2/pokemon/'\n",
    "# response=requests.get(url)\n",
    "# print(response)"
   ]
  },
  {
   "cell_type": "markdown",
   "id": "c86c2ab5",
   "metadata": {},
   "source": [
    "# Create a dictionary { 'Fire': { 'charizard': { 'abilities': [], 'weight': , }, 'ninetales': { 'abilities': [], 'weight': , } }, 'Flying':, 'Water': }"
   ]
  },
  {
   "cell_type": "code",
   "execution_count": null,
   "id": "44283d12",
   "metadata": {},
   "outputs": [],
   "source": [
    "# from random import randint\n",
    "import requests\n",
    "\n",
    "\n",
    "\n",
    "url =\"https://pokeapi.co/api/v2/pokemon/\"\n",
    "#poke_list={}\n",
    "pokes = []\n",
    "for i in range(20):\n",
    "    random = randint(0,700)\n",
    "    data=requests.get(f\"https://pokeapi.co/api/v2/pokemon/{random}\")\n",
    "    data=data.json()\n",
    "    poke_dict={}\n",
    "    poke_keys = f\"{data['types'][0]['type']['name']}\"\n",
    "    poke_name = f\"{data['name']}\"\n",
    "    poke_ablity= data['abilities'][0]['ability']['name']\n",
    "    poke_weight= data['weight']\n",
    "    \n",
    "     # \n",
    "    \n",
    "    poke_dict[poke_keys]={poke_name:{'ablities': poke_ablity,'weight':poke_weight}}  \n",
    "     \n",
    "    pokes.append(poke_dict)\n",
    "print(pokes)\n",
    "    "
   ]
  },
  {
   "cell_type": "code",
   "execution_count": 30,
   "id": "a968407c",
   "metadata": {},
   "outputs": [
    {
     "name": "stdout",
     "output_type": "stream",
     "text": [
      "[{'bug': {'vivillon': {'abilities': 'shield-dust', 'weight': 170}}}, {'ghost': {'cofagrigus': {'abilities': 'mummy', 'weight': 765}}}, {'rock': {'golem': {'abilities': 'rock-head', 'weight': 3000}}}, {'water': {'slowpoke': {'abilities': 'oblivious', 'weight': 360}}}, {'water': {'poliwag': {'abilities': 'water-absorb', 'weight': 124}}}, {'dragon': {'dratini': {'abilities': 'shed-skin', 'weight': 33}}}, {'dragon': {'altaria': {'abilities': 'natural-cure', 'weight': 206}}}, {'water': {'palpitoad': {'abilities': 'swift-swim', 'weight': 170}}}, {'ice': {'jynx': {'abilities': 'oblivious', 'weight': 406}}}, {'psychic': {'swoobat': {'abilities': 'unaware', 'weight': 105}}}, {'ice': {'mamoswine': {'abilities': 'oblivious', 'weight': 2910}}}, {'psychic': {'woobat': {'abilities': 'unaware', 'weight': 21}}}, {'fire': {'pyroar': {'abilities': 'rivalry', 'weight': 815}}}, {'normal': {'fletchling': {'abilities': 'big-pecks', 'weight': 17}}}, {'water': {'palpitoad': {'abilities': 'swift-swim', 'weight': 170}}}, {'bug': {'escavalier': {'abilities': 'swarm', 'weight': 330}}}, {'water': {'seadra': {'abilities': 'poison-point', 'weight': 250}}}, {'rock': {'larvitar': {'abilities': 'guts', 'weight': 720}}}, {'bug': {'wurmple': {'abilities': 'shield-dust', 'weight': 36}}}, {'ground': {'sandshrew': {'abilities': 'sand-veil', 'weight': 120}}}]\n"
     ]
    }
   ],
   "source": [
    "from random import randint\n",
    "import requests\n",
    "\n",
    "\n",
    "\n",
    "url =\"https://pokeapi.co/api/v2/pokemon/\"\n",
    "#poke_list={}\n",
    "pokes = []\n",
    "for i in range(20):\n",
    "    random = randint(0,700)\n",
    "    data=requests.get(f\"https://pokeapi.co/api/v2/pokemon/{random}\")\n",
    "    data=data.json()\n",
    "    poke_dict={}\n",
    "    poke_keys = f\"{data['types'][0]['type']['name']}\"\n",
    "    \n",
    "    poke_dict[poke_keys]={data['name']:{\n",
    "                \n",
    "                          'abilities': data['abilities'][0]['ability']['name'],\n",
    "                          'weight':data['weight']\n",
    "        \n",
    "    } }\n",
    "    pokes.append(poke_dict)\n",
    "print(pokes)\n",
    "    \n",
    "    "
   ]
  },
  {
   "cell_type": "code",
   "execution_count": null,
   "id": "863396fb",
   "metadata": {},
   "outputs": [],
   "source": []
  }
 ],
 "metadata": {
  "kernelspec": {
   "display_name": "Python 3 (ipykernel)",
   "language": "python",
   "name": "python3"
  },
  "language_info": {
   "codemirror_mode": {
    "name": "ipython",
    "version": 3
   },
   "file_extension": ".py",
   "mimetype": "text/x-python",
   "name": "python",
   "nbconvert_exporter": "python",
   "pygments_lexer": "ipython3",
   "version": "3.11.5"
  }
 },
 "nbformat": 4,
 "nbformat_minor": 5
}
